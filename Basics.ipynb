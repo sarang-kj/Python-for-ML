{
 "cells": [
  {
   "cell_type": "markdown",
   "id": "2b8e9844-b8bb-4108-aefb-c2b5f4926fcf",
   "metadata": {},
   "source": [
    "# Basics of `python` programming\n",
    "In this notebook we will explain basic `python` for machine learning"
   ]
  },
  {
   "cell_type": "markdown",
   "id": "5c7f6bf0-04be-4d1e-a6e1-a042ed296188",
   "metadata": {},
   "source": [
    "## Derived Data types in `Python`\n"
   ]
  },
  {
   "cell_type": "markdown",
   "id": "bba3edc1-ed06-4a43-ace5-4c4ad52c6cf7",
   "metadata": {},
   "source": [
    ">**NOTE:** In python `int`,`float`,`str` etc are automic data types and no declaration is required."
   ]
  },
  {
   "cell_type": "markdown",
   "id": "f6b7331c-874f-405b-baf1-c8026e42d0c8",
   "metadata": {},
   "source": [
    "## List"
   ]
  },
  {
   "cell_type": "markdown",
   "id": "ecaa5127-d59c-4178-9af7-dc6db33f6832",
   "metadata": {
    "jp-MarkdownHeadingCollapsed": true,
    "tags": []
   },
   "source": [
    "my_list=[1,2,3\n",
    "\n"
   ]
  },
  {
   "cell_type": "code",
   "execution_count": 3,
   "id": "8864bdeb-f459-4fab-9f63-7610ccc3e91c",
   "metadata": {},
   "outputs": [
    {
     "data": {
      "text/plain": [
       "[1, 2, 3]"
      ]
     },
     "execution_count": 3,
     "metadata": {},
     "output_type": "execute_result"
    }
   ],
   "source": [
    "my_list\n"
   ]
  },
  {
   "cell_type": "code",
   "execution_count": 4,
   "id": "6c51e27a-0a7b-4932-b222-3a971164c205",
   "metadata": {},
   "outputs": [],
   "source": [
    "my_list=[1,'a',2,'b','3']"
   ]
  },
  {
   "cell_type": "code",
   "execution_count": 5,
   "id": "2a0439b3-4dfd-4523-af2f-cddbd268b5a5",
   "metadata": {},
   "outputs": [
    {
     "data": {
      "text/plain": [
       "[1, 'a', 2, 'b', '3']"
      ]
     },
     "execution_count": 5,
     "metadata": {},
     "output_type": "execute_result"
    }
   ],
   "source": [
    "my_list"
   ]
  },
  {
   "cell_type": "code",
   "execution_count": 6,
   "id": "d9e85aab-8b11-4fc3-9166-b5b6a2f3cd0d",
   "metadata": {},
   "outputs": [
    {
     "data": {
      "text/plain": [
       "1"
      ]
     },
     "execution_count": 6,
     "metadata": {},
     "output_type": "execute_result"
    }
   ],
   "source": [
    "my_list[0]"
   ]
  },
  {
   "cell_type": "code",
   "execution_count": 7,
   "id": "68849d7a-4e21-4803-8bb6-2e756ffdbad7",
   "metadata": {},
   "outputs": [],
   "source": [
    "my_list=[1,2,3,[100,200]]"
   ]
  },
  {
   "cell_type": "code",
   "execution_count": 10,
   "id": "21ae6145-5eb2-4dac-911d-8617d0a6ff87",
   "metadata": {},
   "outputs": [
    {
     "data": {
      "text/plain": [
       "200"
      ]
     },
     "execution_count": 10,
     "metadata": {},
     "output_type": "execute_result"
    }
   ],
   "source": [
    "my_list[3][1]"
   ]
  },
  {
   "cell_type": "code",
   "execution_count": 11,
   "id": "03b6f3ca-f8c5-47ec-9bb3-8b026d4f4f92",
   "metadata": {},
   "outputs": [],
   "source": [
    "my_list[0]='new'"
   ]
  },
  {
   "cell_type": "code",
   "execution_count": 12,
   "id": "f01410d9-67ba-4f6c-87da-893ec0d9e910",
   "metadata": {},
   "outputs": [
    {
     "data": {
      "text/plain": [
       "['new', 2, 3, [100, 200]]"
      ]
     },
     "execution_count": 12,
     "metadata": {},
     "output_type": "execute_result"
    }
   ],
   "source": [
    "my_list"
   ]
  },
  {
   "cell_type": "code",
   "execution_count": 16,
   "id": "4a780f6c-bbd2-4458-ad10-cdfe701d133d",
   "metadata": {},
   "outputs": [],
   "source": [
    "my_list.append('e')"
   ]
  },
  {
   "cell_type": "code",
   "execution_count": 17,
   "id": "249aea8b-db01-420f-b196-49e00d7db41f",
   "metadata": {},
   "outputs": [
    {
     "data": {
      "text/plain": [
       "['new', 2, 3, [100, 200], 'e']"
      ]
     },
     "execution_count": 17,
     "metadata": {},
     "output_type": "execute_result"
    }
   ],
   "source": [
    "my_list"
   ]
  },
  {
   "cell_type": "markdown",
   "id": "9317a599-c7a3-47e9-8fad-f93f0c9dbfb3",
   "metadata": {},
   "source": [
    "## tuple"
   ]
  },
  {
   "cell_type": "code",
   "execution_count": 18,
   "id": "89854682-31df-425f-9bb8-c56ff5fe61d2",
   "metadata": {},
   "outputs": [],
   "source": [
    "t=(1,2,3)"
   ]
  },
  {
   "cell_type": "code",
   "execution_count": 19,
   "id": "638b397a-7811-4393-af7b-1a6cf12142a4",
   "metadata": {},
   "outputs": [
    {
     "data": {
      "text/plain": [
       "(1, 2, 3)"
      ]
     },
     "execution_count": 19,
     "metadata": {},
     "output_type": "execute_result"
    }
   ],
   "source": [
    "t"
   ]
  },
  {
   "cell_type": "markdown",
   "id": "26b34d15-27ad-4856-a108-b35d9a312419",
   "metadata": {},
   "source": [
    "## dictionary"
   ]
  },
  {
   "cell_type": "code",
   "execution_count": 22,
   "id": "147e0cf4-fd0a-4776-850d-be22515f937d",
   "metadata": {},
   "outputs": [],
   "source": [
    "d={'name':'sarang','age':'20'}"
   ]
  },
  {
   "cell_type": "code",
   "execution_count": 23,
   "id": "a9ee4446-234e-48fc-99b4-320d1ad959e7",
   "metadata": {},
   "outputs": [
    {
     "data": {
      "text/plain": [
       "{'name': 'sarang', 'age': '20'}"
      ]
     },
     "execution_count": 23,
     "metadata": {},
     "output_type": "execute_result"
    }
   ],
   "source": [
    "d"
   ]
  },
  {
   "cell_type": "code",
   "execution_count": 24,
   "id": "be095379-a6e0-451f-98cc-11cb5426fd81",
   "metadata": {},
   "outputs": [
    {
     "data": {
      "text/plain": [
       "'sarang'"
      ]
     },
     "execution_count": 24,
     "metadata": {},
     "output_type": "execute_result"
    }
   ],
   "source": [
    "d['name']"
   ]
  },
  {
   "cell_type": "markdown",
   "id": "54d86e3e-3fd0-4718-9ea2-4663cb2b15fa",
   "metadata": {},
   "source": [
    "## sets \n",
    "In sets we only get `unique` values"
   ]
  },
  {
   "cell_type": "code",
   "execution_count": 25,
   "id": "cb20dfe2-7961-48e4-b646-87bb8b41c561",
   "metadata": {},
   "outputs": [
    {
     "data": {
      "text/plain": [
       "{1, 2, 3, 4}"
      ]
     },
     "execution_count": 25,
     "metadata": {},
     "output_type": "execute_result"
    }
   ],
   "source": [
    "{1,2,1,1,2,1,3,3,3,4,4,4,1,1}"
   ]
  },
  {
   "cell_type": "markdown",
   "id": "8dde3b36-adef-4893-9867-b6975632b828",
   "metadata": {},
   "source": [
    "## FUNCTIONS"
   ]
  },
  {
   "cell_type": "code",
   "execution_count": 26,
   "id": "1eb75971-f6fd-4195-8d8f-c5787518f07c",
   "metadata": {},
   "outputs": [],
   "source": [
    "def times(var):\n",
    "    return var**2"
   ]
  },
  {
   "cell_type": "code",
   "execution_count": 27,
   "id": "89100ff0-c81a-44fb-af72-d9af2dd2df60",
   "metadata": {},
   "outputs": [
    {
     "data": {
      "text/plain": [
       "4"
      ]
     },
     "execution_count": 27,
     "metadata": {},
     "output_type": "execute_result"
    }
   ],
   "source": [
    "times(2)"
   ]
  },
  {
   "cell_type": "markdown",
   "id": "6e1a2e95-d224-44ea-9c88-663bc20f2162",
   "metadata": {},
   "source": [
    "## Lambda functions"
   ]
  },
  {
   "cell_type": "code",
   "execution_count": 28,
   "id": "421a586f-9c52-4d65-959c-156f876c1bbc",
   "metadata": {},
   "outputs": [],
   "source": [
    "times= lambda var:var**2"
   ]
  },
  {
   "cell_type": "code",
   "execution_count": 30,
   "id": "9e5eaf3d-6037-4238-9035-7055574020c1",
   "metadata": {},
   "outputs": [
    {
     "name": "stdout",
     "output_type": "stream",
     "text": [
      "25\n"
     ]
    }
   ],
   "source": [
    "print(times(5))"
   ]
  },
  {
   "cell_type": "code",
   "execution_count": 31,
   "id": "68f28fd7-94bb-405a-a383-0a3236320eec",
   "metadata": {},
   "outputs": [],
   "source": [
    "x=[1,2,3]"
   ]
  },
  {
   "cell_type": "code",
   "execution_count": 34,
   "id": "8fa1b49c-24b1-4477-abfd-0868a167cbc9",
   "metadata": {},
   "outputs": [
    {
     "name": "stdout",
     "output_type": "stream",
     "text": [
      "None\n",
      "None\n",
      "None\n",
      "[1, 4, 9]\n"
     ]
    }
   ],
   "source": [
    "out=[]\n",
    "for items in x:\n",
    "    print(out.append(items**2))\n",
    "print(out)    \n",
    "    "
   ]
  },
  {
   "cell_type": "markdown",
   "id": "24d96bfc-a140-4100-8516-882199a0d638",
   "metadata": {},
   "source": [
    "## List comprehension"
   ]
  },
  {
   "cell_type": "code",
   "execution_count": 35,
   "id": "76a519df-d647-4f00-af46-a5154d53294d",
   "metadata": {},
   "outputs": [
    {
     "data": {
      "text/plain": [
       "[1, 4, 9]"
      ]
     },
     "execution_count": 35,
     "metadata": {},
     "output_type": "execute_result"
    }
   ],
   "source": [
    "[item**2 for item in x]"
   ]
  },
  {
   "cell_type": "markdown",
   "id": "5a8a3bac-3e81-432a-bd52-27e1631ad5d3",
   "metadata": {},
   "source": [
    "## Formatting in python"
   ]
  },
  {
   "cell_type": "code",
   "execution_count": 39,
   "id": "855833fa-ec89-4d94-8b12-725ccf6259d4",
   "metadata": {},
   "outputs": [
    {
     "name": "stdout",
     "output_type": "stream",
     "text": [
      "my name is sarang and my age is 10\n"
     ]
    }
   ],
   "source": [
    "print(\"my name is {0} and my age is {1}\".format('sarang',10))"
   ]
  },
  {
   "cell_type": "code",
   "execution_count": 40,
   "id": "cafc55d3-061d-46e2-831a-7cc9a371af25",
   "metadata": {},
   "outputs": [],
   "source": [
    "number=10\n",
    "name=\"sarang\""
   ]
  },
  {
   "cell_type": "code",
   "execution_count": 41,
   "id": "1dd47919-8f78-4f2c-bede-696a5b15836f",
   "metadata": {},
   "outputs": [
    {
     "name": "stdout",
     "output_type": "stream",
     "text": [
      "my name is sarang and my number is 10\n"
     ]
    }
   ],
   "source": [
    "print(\"my name is {0} and my number is {1}\".format(name,number))"
   ]
  },
  {
   "cell_type": "code",
   "execution_count": null,
   "id": "e492caf2-f8d2-4272-a2cb-6bb7667e147a",
   "metadata": {},
   "outputs": [],
   "source": []
  }
 ],
 "metadata": {
  "kernelspec": {
   "display_name": "Python 3 (Intel® oneAPI 2023.2)",
   "language": "python",
   "name": "c009-intel_distribution_of_python_3_oneapi-beta05-python"
  },
  "language_info": {
   "codemirror_mode": {
    "name": "ipython",
    "version": 3
   },
   "file_extension": ".py",
   "mimetype": "text/x-python",
   "name": "python",
   "nbconvert_exporter": "python",
   "pygments_lexer": "ipython3",
   "version": "3.9.16"
  }
 },
 "nbformat": 4,
 "nbformat_minor": 5
}
